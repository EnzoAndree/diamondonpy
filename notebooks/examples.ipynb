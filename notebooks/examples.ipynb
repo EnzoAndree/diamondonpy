{
 "cells": [
  {
   "cell_type": "code",
   "execution_count": 1,
   "metadata": {},
   "outputs": [],
   "source": [
    "from diamondonpy import Diamond"
   ]
  },
  {
   "cell_type": "code",
   "execution_count": 2,
   "metadata": {},
   "outputs": [
    {
     "data": {
      "text/plain": [
       "''"
      ]
     },
     "execution_count": 2,
     "metadata": {},
     "output_type": "execute_result"
    }
   ],
   "source": [
    "diamond = Diamond()\n",
    "diamond.makedb(\n",
    "    db=\"mydb.dmnd\",\n",
    "    input_file=\"random.fasta\",\n",
    "    threads=4\n",
    ")\n"
   ]
  },
  {
   "cell_type": "code",
   "execution_count": 5,
   "metadata": {},
   "outputs": [
    {
     "data": {
      "text/html": [
       "<div>\n",
       "<style scoped>\n",
       "    .dataframe tbody tr th:only-of-type {\n",
       "        vertical-align: middle;\n",
       "    }\n",
       "\n",
       "    .dataframe tbody tr th {\n",
       "        vertical-align: top;\n",
       "    }\n",
       "\n",
       "    .dataframe thead th {\n",
       "        text-align: right;\n",
       "    }\n",
       "</style>\n",
       "<table border=\"1\" class=\"dataframe\">\n",
       "  <thead>\n",
       "    <tr style=\"text-align: right;\">\n",
       "      <th></th>\n",
       "      <th>qseqid</th>\n",
       "      <th>sseqid</th>\n",
       "      <th>pident</th>\n",
       "      <th>length</th>\n",
       "      <th>evalue</th>\n",
       "      <th>bitscore</th>\n",
       "      <th>qcovhsp</th>\n",
       "    </tr>\n",
       "  </thead>\n",
       "  <tbody>\n",
       "    <tr>\n",
       "      <th>0</th>\n",
       "      <td>protein_1</td>\n",
       "      <td>protein_1</td>\n",
       "      <td>100.0</td>\n",
       "      <td>78</td>\n",
       "      <td>2.330000e-71</td>\n",
       "      <td>198</td>\n",
       "      <td>100</td>\n",
       "    </tr>\n",
       "    <tr>\n",
       "      <th>1</th>\n",
       "      <td>protein_2</td>\n",
       "      <td>protein_2</td>\n",
       "      <td>100.0</td>\n",
       "      <td>78</td>\n",
       "      <td>6.850000e-62</td>\n",
       "      <td>174</td>\n",
       "      <td>100</td>\n",
       "    </tr>\n",
       "    <tr>\n",
       "      <th>2</th>\n",
       "      <td>protein_3</td>\n",
       "      <td>protein_3</td>\n",
       "      <td>100.0</td>\n",
       "      <td>74</td>\n",
       "      <td>8.720000e-69</td>\n",
       "      <td>191</td>\n",
       "      <td>100</td>\n",
       "    </tr>\n",
       "    <tr>\n",
       "      <th>3</th>\n",
       "      <td>protein_4</td>\n",
       "      <td>protein_4</td>\n",
       "      <td>100.0</td>\n",
       "      <td>73</td>\n",
       "      <td>1.610000e-67</td>\n",
       "      <td>187</td>\n",
       "      <td>100</td>\n",
       "    </tr>\n",
       "    <tr>\n",
       "      <th>4</th>\n",
       "      <td>protein_4</td>\n",
       "      <td>protein_5</td>\n",
       "      <td>98.6</td>\n",
       "      <td>73</td>\n",
       "      <td>1.090000e-65</td>\n",
       "      <td>183</td>\n",
       "      <td>100</td>\n",
       "    </tr>\n",
       "    <tr>\n",
       "      <th>5</th>\n",
       "      <td>protein_5</td>\n",
       "      <td>protein_5</td>\n",
       "      <td>100.0</td>\n",
       "      <td>73</td>\n",
       "      <td>7.450000e-67</td>\n",
       "      <td>186</td>\n",
       "      <td>100</td>\n",
       "    </tr>\n",
       "  </tbody>\n",
       "</table>\n",
       "</div>"
      ],
      "text/plain": [
       "      qseqid     sseqid  pident  length        evalue  bitscore qcovhsp\n",
       "0  protein_1  protein_1   100.0      78  2.330000e-71       198     100\n",
       "1  protein_2  protein_2   100.0      78  6.850000e-62       174     100\n",
       "2  protein_3  protein_3   100.0      74  8.720000e-69       191     100\n",
       "3  protein_4  protein_4   100.0      73  1.610000e-67       187     100\n",
       "4  protein_4  protein_5    98.6      73  1.090000e-65       183     100\n",
       "5  protein_5  protein_5   100.0      73  7.450000e-67       186     100"
      ]
     },
     "execution_count": 5,
     "metadata": {},
     "output_type": "execute_result"
    }
   ],
   "source": [
    "diamond.blastp(\n",
    "    db=\"random.fasta\",\n",
    "    query=\"random.fasta\",\n",
    "    threads=8,\n",
    "    evalue=1e-5,\n",
    "    matrix=\"BLOSUM90\",\n",
    "    gapopen=10,\n",
    "    gapextend=1,\n",
    "    max_target_seqs=50,\n",
    "    sensitivity=\"fast\",\n",
    "    outfmt=\"6 qseqid sseqid pident length evalue bitscore qcovhsp\",\n",
    "    iterate=True\n",
    ")\n"
   ]
  }
 ],
 "metadata": {
  "kernelspec": {
   "display_name": "base",
   "language": "python",
   "name": "python3"
  },
  "language_info": {
   "codemirror_mode": {
    "name": "ipython",
    "version": 3
   },
   "file_extension": ".py",
   "mimetype": "text/x-python",
   "name": "python",
   "nbconvert_exporter": "python",
   "pygments_lexer": "ipython3",
   "version": "3.12.8"
  }
 },
 "nbformat": 4,
 "nbformat_minor": 2
}
